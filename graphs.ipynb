{
 "cells": [
  {
   "cell_type": "code",
   "execution_count": null,
   "metadata": {},
   "outputs": [],
   "source": [
    "from Tcx.TcxFile import Tcx\n",
    "inputFile = \"test.tcx\"\n",
    "outPutFile = \"tst\"\n",
    "tcxFile = Tcx(inputFile)\n",
    "tcxFile.readTcx()\n",
    "activities = tcxFile.getActivities()"
   ]
  },
  {
   "cell_type": "code",
   "execution_count": null,
   "metadata": {},
   "outputs": [],
   "source": [
    "activitiesData=[]\n",
    "for activity in activities:\n",
    "    tempData=[]\n",
    "    preDistance = 0\n",
    "    preTime = 0\n",
    "    for lap in activity.laps:\n",
    "        for point in activity.positions[lap.startPosition: lap.endPosition]:\n",
    "            curSpeed = 0\n",
    "            if point.pos is not None:\n",
    "                if point.time.timestamp() > preTime:\n",
    "                    if preTime != 0:\n",
    "                        curSpeed = (point.distance - preDistance) / (point.time.timestamp() - preTime)\n",
    "                preDistance = point.distance\n",
    "                preTime = point.time.timestamp()\n",
    "            tempData.append((int(point.time.timestamp()),point.bpm,curSpeed))\n",
    "    activitiesData.append(tempData)"
   ]
  },
  {
   "cell_type": "code",
   "execution_count": null,
   "metadata": {
    "scrolled": false
   },
   "outputs": [],
   "source": [
    "for activitieData in activitiesData:\n",
    "    maxTime=0\n",
    "    minTime=9999999999999999\n",
    "    for row in activitieData:\n",
    "        if row[0]>maxTime:\n",
    "            maxTime=row[0]\n",
    "        if row[0]<minTime:\n",
    "            minTime=row[0]\n",
    "    print (maxTime)\n",
    "    print (minTime)\n",
    "    print (maxTime-minTime)\n",
    "    print ((maxTime-minTime)/60)"
   ]
  },
  {
   "cell_type": "code",
   "execution_count": null,
   "metadata": {},
   "outputs": [],
   "source": [
    "print (len(activities))"
   ]
  },
  {
   "cell_type": "code",
   "execution_count": null,
   "metadata": {},
   "outputs": [],
   "source": [
    "print (len(activitiesData))"
   ]
  },
  {
   "cell_type": "code",
   "execution_count": null,
   "metadata": {},
   "outputs": [],
   "source": [
    "import csv\n",
    "outPutFile=\"tst\"\n",
    "speedOutputFiles=[]\n",
    "bpmOutputFiles=[]\n",
    "activityIndex = 0\n",
    "for activitieData in activitiesData:\n",
    "    bpmOutput=outPutFile + str(activityIndex) + \"BPM.csv\"\n",
    "    speedOutput=outPutFile + str(activityIndex) + \"SPEED.csv\"\n",
    "    bpmOutputFiles.append(bpmOutput)\n",
    "    speedOutputFiles.append(speedOutput)\n",
    "    with open(bpmOutput, 'w', newline='') as csvFileBpm:\n",
    "        with open(speedOutput, 'w', newline='') as csvFileSpeed:\n",
    "            writerBpm = csv.writer(csvFileBpm, delimiter=',')\n",
    "            writerSpeed = csv.writer(csvFileSpeed, delimiter=',')\n",
    "            writerBpm.writerow([\"time\", \"bpm\"])\n",
    "            writerSpeed.writerow([\"time\", \"speed\"])\n",
    "            for row in activitieData:\n",
    "                writerBpm.writerow([row[0],row[1]])\n",
    "                writerSpeed.writerow([row[0],row[2]])\n",
    "    activityIndex=activityIndex+1"
   ]
  },
  {
   "cell_type": "code",
   "execution_count": null,
   "metadata": {},
   "outputs": [],
   "source": [
    "import csv\n",
    "outPutFile=\"tst\"\n",
    "OutputFiles=[]\n",
    "activityIndex = 0\n",
    "for activitieData in activitiesData:\n",
    "    fileOutput=outPutFile + str(activityIndex) + \".csv\"\n",
    "    OutputFiles.append(fileOutput)\n",
    "    with open(fileOutput, 'w', newline='') as csvFile:\n",
    "        writer = csv.writer(csvFile, delimiter=',')\n",
    "        writer.writerow([\"time\", \"bpm\", \"speed\"])\n",
    "        for row in activitieData:\n",
    "            writer.writerow([row[0],row[1],row[2]])\n",
    "    activityIndex=activityIndex+1"
   ]
  },
  {
   "cell_type": "code",
   "execution_count": null,
   "metadata": {},
   "outputs": [],
   "source": [
    "import pandas as pd\n",
    "import numpy as np\n",
    "file =OutputFiles[0]\n",
    "df = pd.read_csv(file)\n",
    "df.replace(0,np.NaN,inplace=True)\n",
    "df['time']=df.apply(lambda x: x-x.min(), axis=0)['time']\n",
    "df['speedKPH']=df.apply(lambda x:x*3.6)['speed']\n",
    "#df.set_index(\"time\" ,inplace=True)"
   ]
  },
  {
   "cell_type": "code",
   "execution_count": null,
   "metadata": {
    "scrolled": true
   },
   "outputs": [],
   "source": [
    "import matplotlib.pyplot as plt\n",
    "print(df.head())\n",
    "print (df[['bpm','speed','speedKPH']].describe())\n",
    "print (df[['bpm','speed','speedKPH']].corr())\n",
    "print (df[['bpm','speed','speedKPH']].cov())"
   ]
  },
  {
   "cell_type": "code",
   "execution_count": null,
   "metadata": {
    "scrolled": true
   },
   "outputs": [],
   "source": [
    "xticks=range(0,df['time'].max(),20)\n",
    "figSize=(100,15)\n",
    "#df[['time','bpm','speedKPH']].plot(x='time',subplots=True,xticks=xticks,figsize=figSize)\n",
    "df[['time','bpm','speedKPH']].plot(x='time',subplots=False,xticks=xticks,figsize=figSize,secondary_y=['speedKPH'])\n",
    "df1=df['bpm']/df['speedKPH']\n",
    "#df.plot(x='time',y='speedKPH',xticks=xticks,figsize=figSize)\n",
    "#df.plot(x='time',y='bpm',xticks=xticks,figsize=figSize)\n",
    "plt.show()\n",
    "df1.plot()\n",
    "plt.show()"
   ]
  }
 ],
 "metadata": {
  "celltoolbar": "Raw Cell Format",
  "kernelspec": {
   "display_name": "Python 3",
   "language": "python",
   "name": "python3"
  },
  "language_info": {
   "codemirror_mode": {
    "name": "ipython",
    "version": 3
   },
   "file_extension": ".py",
   "mimetype": "text/x-python",
   "name": "python",
   "nbconvert_exporter": "python",
   "pygments_lexer": "ipython3",
   "version": "3.6.2"
  }
 },
 "nbformat": 4,
 "nbformat_minor": 2
}
